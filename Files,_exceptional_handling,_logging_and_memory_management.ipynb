{
  "nbformat": 4,
  "nbformat_minor": 0,
  "metadata": {
    "colab": {
      "provenance": []
    },
    "kernelspec": {
      "name": "python3",
      "display_name": "Python 3"
    },
    "language_info": {
      "name": "python"
    }
  },
  "cells": [
    {
      "cell_type": "markdown",
      "source": [
        "1. What is the difference between interpreted and compiled languages?\n",
        " - Interpreted languages execute code line-by-line at runtime (Python, JavaScript), while compiled languages convert entire code to machine code before execution (C++, Java). Interpreted languages are more portable but slower, compiled languages have faster execution but need compilation first.\n",
        "2. What is exception handling in Python?\n",
        " - A mechanism to handle runtime errors gracefully using try-except blocks, allowing programs to continue running instead of crashing when errors occur.\n",
        "3. What is the purpose of the finally block in exception handling?\n",
        " - The finally block executes regardless of whether an exception occurred or not, making it ideal for cleanup operations like closing files or releasing resources.\n",
        "4. What is logging in Python?\n",
        " - A way to track events in software applications by recording messages about program execution, errors, and other information to files or other outputs for debugging and monitoring.\n",
        "5. What is the significance of the del method in Python?\n",
        " - The del method is a destructor that gets called when an object is about to be destroyed (garbage collected), allowing for cleanup operations before the object is removed from memory.\n",
        "6. What is the difference between import and from...import in Python?\n",
        " - import module imports the entire module (use as module.function), while from module import function imports specific components directly into the namespace (use as function).\n",
        "7. How can you handle multiple exceptions in Python?\n",
        " - In Python, you can handle multiple exceptions in several ways:\n",
        " - Using multiple except blocks\n",
        "You can catch different exception types with separate except blocks. This approach allows you to handle each exception type differently based on the specific error that occurred.\n",
        " - Handling multiple exceptions in a single except block\n",
        "You can catch multiple exception types in a single except block by grouping them in parentheses. This is useful when you want to perform the same action regardless of which of several exceptions occurred.\n",
        " - Accessing the exception instance\n",
        "You can use the \"as\" keyword to capture the exception instance. This gives you access to the exception object itself, allowing you to extract more information about what went wrong.\n",
        " - Using exception hierarchies\n",
        "Python exceptions have a hierarchy. Catching a parent exception will catch all of its subclasses. This can be useful but should be used carefully, as it might catch more exceptions than intended.\n",
        "8. What is the purpose of the with statement when handling files in Python?\n",
        " - The with statement provides a context manager that automatically handles resource acquisition and release (like file closing), ensuring proper cleanup even if exceptions occur.\n",
        "9. What is the difference between multithreading and multiprocessing?\n",
        " - Multithreading runs multiple threads within a single process sharing the same memory space, while multiprocessing runs separate processes with independent memory spaces. Python's multithreading is limited by GIL, but multiprocessing bypasses this limitation.\n",
        "10. What are the advantages of using logging in a program?\n",
        "\n",
        " - Provides a record of program execution\n",
        "Offers different severity levels\n",
        "Can be configured for different outputs\n",
        "Better than print statements for production code\n",
        "Centralizes error and event reporting\n",
        "\n",
        "11. What is memory management in Python?\n",
        " - Python automatically manages memory allocation and deallocation using reference counting and a garbage collector, freeing developers from manual memory management.\n",
        "12. What are the basic steps involved in exception handling in Python?\n",
        "\n",
        " - Place code that might raise exceptions in a try block\n",
        "Specify exceptions to catch in except blocks\n",
        "Optionally include else for code that runs if no exceptions occur\n",
        "Optionally include finally for cleanup code\n",
        "\n",
        "13. Why is memory management important in Python?\n",
        " - It prevents memory leaks, optimizes resource usage, ensures program stability, and improves performance by efficiently allocating and freeing memory.\n",
        "14. What is the role of try and except in exception handling?\n",
        " - try contains code that might raise exceptions, while except catches and handles specific exceptions that occur in the try block.\n",
        "15. How does Python's garbage collection system work?\n",
        " - Python uses reference counting as primary mechanism (objects are collected when reference count reaches zero) and a cyclic garbage collector to detect and collect circular references.\n",
        "16. What is the purpose of the else block in exception handling?\n",
        " - The else block executes when no exceptions are raised in the try block, useful for code that should run only if the try block succeeds.\n",
        "17. What are the common logging levels in Python?\n",
        " - DEBUG, INFO, WARNING, ERROR, CRITICAL (in increasing order of severity)\n",
        "18. What is the difference between os.fork() and multiprocessing in Python?\n",
        " - os.fork() is a low-level system call available only on Unix systems that creates a child process, while multiprocessing is a cross-platform module providing higher-level abstractions for process-based parallelism.\n",
        "19. What is the importance of closing a file in Python?\n",
        " - Prevents resource leaks, ensures data is written to disk, frees system resources, and allows other processes to access the file.\n",
        "20. What is the difference between file.read() and file.readline() in Python?\n",
        " - file.read() reads the entire file content at once, while file.readline() reads one line at a time, which is more memory-efficient for large files.\n",
        "21. What is the logging module in Python used for?\n",
        " - Provides a flexible framework for emitting log messages from Python programs, with features for filtering, routing, and formatting logs.\n",
        "22. What is the os module in Python used for in file handling?\n",
        " - Provides functions for interacting with the operating system for file operations like checking if files exist, getting file information, creating/removing directories, and manipulating paths.\n",
        "23. What are the challenges associated with memory management in Python?\n",
        " - Memory leaks, circular references, inefficient use of memory, managing large datasets, and balancing between memory usage and performance.\n",
        "24. How do you raise an exception manually in Python?\n",
        "python if condition:\n",
        "    raise ValueError(\"Custom error message\")\n",
        "25. Why is it important to use multithreading in certain applications?\n",
        " - Improves responsiveness in I/O-bound applications, enables concurrent operations, enhances user experience, and can increase throughput in certain scenarios."
      ],
      "metadata": {
        "id": "k6nobQjpdv9H"
      }
    },
    {
      "cell_type": "code",
      "source": [
        "#1. How can you open a file for writing in Python and write a string to it?\n",
        "with open(\"output.txt\", \"w\") as f:\n",
        "    f.write(\"Hello, this is a test.\")\n"
      ],
      "metadata": {
        "id": "3iduKoXAgiJm"
      },
      "execution_count": 33,
      "outputs": []
    },
    {
      "cell_type": "code",
      "source": [
        "#2. Write a Python program to read the contents of a file and print each line.\n",
        "with open(\"output.txt\", \"r\") as file:\n",
        "    for line in file:\n",
        "        print(line.strip())"
      ],
      "metadata": {
        "colab": {
          "base_uri": "https://localhost:8080/"
        },
        "id": "kEOGuxWxgvNR",
        "outputId": "689feeda-05d7-42b0-874c-11452efa0fb0"
      },
      "execution_count": 36,
      "outputs": [
        {
          "output_type": "stream",
          "name": "stdout",
          "text": [
            "Hello, this is a test.\n"
          ]
        }
      ]
    },
    {
      "cell_type": "code",
      "source": [
        "#3. How would you handle a case where the file doesn't exist while trying to open it for reading?\n",
        "try:\n",
        "    with open(\"nonexistent.txt\", \"r\") as f:\n",
        "        print(f.read())\n",
        "except FileNotFoundError:\n",
        "    print(\"File not found.\")\n"
      ],
      "metadata": {
        "colab": {
          "base_uri": "https://localhost:8080/"
        },
        "id": "zY6hgEwIgvUK",
        "outputId": "5b5ccf05-0c3a-44e4-9386-6e67eff1b062"
      },
      "execution_count": 37,
      "outputs": [
        {
          "output_type": "stream",
          "name": "stdout",
          "text": [
            "File not found.\n"
          ]
        }
      ]
    },
    {
      "cell_type": "code",
      "source": [
        "#4. Write a Python script that reads from one file and writes its content to another file.\n",
        "with open(\"source.txt\", \"w\") as src:\n",
        "    src.write(\"Data to be copied.\")\n",
        "\n",
        "with open(\"source.txt\", \"r\") as src, open(\"destination.txt\", \"w\") as dest:\n",
        "    dest.write(src.read())\n"
      ],
      "metadata": {
        "id": "xoogj-6dgvX4"
      },
      "execution_count": 38,
      "outputs": []
    },
    {
      "cell_type": "code",
      "source": [
        "#5. How would you catch and handle division by zero error in Python?\n",
        "try:\n",
        "    result = 10 / 0\n",
        "except ZeroDivisionError:\n",
        "    print(\"Cannot divide by zero\")"
      ],
      "metadata": {
        "colab": {
          "base_uri": "https://localhost:8080/"
        },
        "id": "EVNH3waEgvbc",
        "outputId": "24d20480-347d-41f4-ca5c-a20a8d7edf93"
      },
      "execution_count": 39,
      "outputs": [
        {
          "output_type": "stream",
          "name": "stdout",
          "text": [
            "Cannot divide by zero\n"
          ]
        }
      ]
    },
    {
      "cell_type": "code",
      "source": [
        "#6. Write a Python program that logs an error message to a log file when a division by zero exception occurs.\n",
        "import logging\n",
        "logging.basicConfig(filename=\"error.log\", level=logging.ERROR)\n",
        "try:\n",
        "    result = 10 / 0\n",
        "except ZeroDivisionError:\n",
        "    logging.error(\"Division by zero attempted\")"
      ],
      "metadata": {
        "colab": {
          "base_uri": "https://localhost:8080/"
        },
        "id": "Pnvd3VlDgver",
        "outputId": "e69221a6-8b30-4caf-cdba-3f38c3314813"
      },
      "execution_count": 28,
      "outputs": [
        {
          "output_type": "stream",
          "name": "stderr",
          "text": [
            "ERROR:root:Division by zero attempted\n"
          ]
        }
      ]
    },
    {
      "cell_type": "code",
      "source": [
        "#7. How do you log information at different levels (INFO, ERROR, WARNING) in Python using the logging module?\n",
        "import logging\n",
        "logging.basicConfig(level=logging.INFO)\n",
        "logging.debug(\"Debug message\")\n",
        "logging.info(\"Info message\")\n",
        "logging.warning(\"Warning message\")\n",
        "logging.error(\"Error message\")\n",
        "logging.critical(\"Critical message\")"
      ],
      "metadata": {
        "colab": {
          "base_uri": "https://localhost:8080/"
        },
        "id": "GwiZU-eGgvh3",
        "outputId": "a4deccf8-e8b0-443a-d5eb-1a084a9f6f9a"
      },
      "execution_count": 8,
      "outputs": [
        {
          "output_type": "stream",
          "name": "stderr",
          "text": [
            "WARNING:root:Warning message\n",
            "ERROR:root:Error message\n",
            "CRITICAL:root:Critical message\n"
          ]
        }
      ]
    },
    {
      "cell_type": "code",
      "source": [
        "#8. Write a program to handle a file opening error using exception handling.\n",
        "try:\n",
        "    file = open(\"nonexistent.txt\", \"r\")\n",
        "except FileNotFoundError:\n",
        "    print(\"File not found\")"
      ],
      "metadata": {
        "colab": {
          "base_uri": "https://localhost:8080/"
        },
        "id": "tSy4t-bxgvld",
        "outputId": "a80f52de-65e0-42dc-fc94-d0d6d9bcab10"
      },
      "execution_count": 27,
      "outputs": [
        {
          "output_type": "stream",
          "name": "stdout",
          "text": [
            "File not found\n"
          ]
        }
      ]
    },
    {
      "cell_type": "code",
      "source": [
        "#9. How can you read a file line by line and store its content in a list in Python?\n",
        "with open(\"output.txt\", \"r\") as f:\n",
        "    lines = f.readlines()\n",
        "\n",
        "print(lines)\n"
      ],
      "metadata": {
        "colab": {
          "base_uri": "https://localhost:8080/"
        },
        "id": "N1kBRxXAgvoX",
        "outputId": "7310c6d3-a758-4db4-941d-ee639e22499e"
      },
      "execution_count": 40,
      "outputs": [
        {
          "output_type": "stream",
          "name": "stdout",
          "text": [
            "['Hello, this is a test.']\n"
          ]
        }
      ]
    },
    {
      "cell_type": "code",
      "source": [
        "#10. How can you append data to an existing file in Python?\n",
        "with open(\"output.txt\", \"a\") as f:\n",
        "    f.write(\"\\nNew line added.\")\n"
      ],
      "metadata": {
        "id": "W6GkAD5YgvuR"
      },
      "execution_count": 41,
      "outputs": []
    },
    {
      "cell_type": "code",
      "source": [
        "#11. Write a Python program that uses a try-except block to handle an error when attempting to access a dictionary key that doesn't exist.\n",
        "data = {\"name\": \"Alice\"}\n",
        "\n",
        "try:\n",
        "    print(data[\"age\"])\n",
        "except KeyError:\n",
        "    print(\"Key not found.\")\n"
      ],
      "metadata": {
        "colab": {
          "base_uri": "https://localhost:8080/"
        },
        "id": "YqqvhcoygvxK",
        "outputId": "cfee7f24-bd02-4406-d61c-4da4798e5f3f"
      },
      "execution_count": 42,
      "outputs": [
        {
          "output_type": "stream",
          "name": "stdout",
          "text": [
            "Key not found.\n"
          ]
        }
      ]
    },
    {
      "cell_type": "code",
      "source": [
        "#12. Write a program that demonstrates using multiple except blocks to handle different types of exceptions.\n",
        "try:\n",
        "    x = 10 / 0\n",
        "    y = [1, 2, 3]\n",
        "    print(y[5])\n",
        "except ZeroDivisionError:\n",
        "    print(\"Division by zero.\")\n",
        "except IndexError:\n",
        "    print(\"Index out of range.\")\n"
      ],
      "metadata": {
        "colab": {
          "base_uri": "https://localhost:8080/"
        },
        "id": "lE0pabpFgv0l",
        "outputId": "7d9b4e60-108c-46e5-dc1b-f4f75a832314"
      },
      "execution_count": 43,
      "outputs": [
        {
          "output_type": "stream",
          "name": "stdout",
          "text": [
            "Division by zero.\n"
          ]
        }
      ]
    },
    {
      "cell_type": "code",
      "source": [
        "#13. How would you check if a file exists before attempting to read it in Python?\n",
        "import os\n",
        "\n",
        "if os.path.exists(\"output.txt\"):\n",
        "    with open(\"output.txt\", \"r\") as f:\n",
        "        print(f.read())\n",
        "else:\n",
        "    print(\"File does not exist.\")\n"
      ],
      "metadata": {
        "colab": {
          "base_uri": "https://localhost:8080/"
        },
        "id": "CyrIEyc7gv3s",
        "outputId": "0b8ff1eb-3705-4b30-8a58-8461dbeac6aa"
      },
      "execution_count": 44,
      "outputs": [
        {
          "output_type": "stream",
          "name": "stdout",
          "text": [
            "Hello, this is a test.\n",
            "New line added.\n"
          ]
        }
      ]
    },
    {
      "cell_type": "code",
      "source": [
        "#14. Write a program that uses the logging module to log both informational and error messages.\n",
        "import logging\n",
        "logging.basicConfig(filename=\"app.log\", level=logging.INFO)\n",
        "logging.info(\"Program started\")\n",
        "try:\n",
        "    result = 10 / 0\n",
        "except ZeroDivisionError:\n",
        "    logging.error(\"Division by zero error\")"
      ],
      "metadata": {
        "colab": {
          "base_uri": "https://localhost:8080/"
        },
        "id": "qfVLIPnDgv6Z",
        "outputId": "acda15bf-723d-4290-d8ce-5957eef678cc"
      },
      "execution_count": 19,
      "outputs": [
        {
          "output_type": "stream",
          "name": "stderr",
          "text": [
            "ERROR:root:Division by zero error\n"
          ]
        }
      ]
    },
    {
      "cell_type": "code",
      "source": [
        "#15. Write a Python program that prints the content of a file and handles the case when the file is empty.\n",
        "with open(\"file.txt\", \"r\") as file:\n",
        "    content = file.read()\n",
        "    if not content:\n",
        "        print(\"File is empty\")\n",
        "    else:\n",
        "        print(content)"
      ],
      "metadata": {
        "colab": {
          "base_uri": "https://localhost:8080/"
        },
        "id": "MFcCvT_Hgv9T",
        "outputId": "ee8d73b9-43c5-4a41-c05f-6c6a0c6303c2"
      },
      "execution_count": 18,
      "outputs": [
        {
          "output_type": "stream",
          "name": "stdout",
          "text": [
            "Hello, World!\n"
          ]
        }
      ]
    },
    {
      "cell_type": "code",
      "source": [
        "#16. Demonstrate how to use memory profiling to check the memory usage of a small program.\n",
        "from memory_profiler import profile\n",
        "\n",
        "@profile\n",
        "def test():\n",
        "    a = [i for i in range(10000)]\n",
        "    return a\n",
        "\n",
        "test()\n"
      ],
      "metadata": {
        "colab": {
          "base_uri": "https://localhost:8080/",
          "height": 401
        },
        "collapsed": true,
        "id": "0RKyZcoBgwAx",
        "outputId": "317f4c1d-1742-409d-d231-c21b97cbf27a"
      },
      "execution_count": 45,
      "outputs": [
        {
          "output_type": "error",
          "ename": "ModuleNotFoundError",
          "evalue": "No module named 'memory_profiler'",
          "traceback": [
            "\u001b[0;31m---------------------------------------------------------------------------\u001b[0m",
            "\u001b[0;31mModuleNotFoundError\u001b[0m                       Traceback (most recent call last)",
            "\u001b[0;32m<ipython-input-45-214630bfed41>\u001b[0m in \u001b[0;36m<cell line: 0>\u001b[0;34m()\u001b[0m\n\u001b[1;32m      1\u001b[0m \u001b[0;31m#16. Demonstrate how to use memory profiling to check the memory usage of a small program.\u001b[0m\u001b[0;34m\u001b[0m\u001b[0;34m\u001b[0m\u001b[0m\n\u001b[0;32m----> 2\u001b[0;31m \u001b[0;32mfrom\u001b[0m \u001b[0mmemory_profiler\u001b[0m \u001b[0;32mimport\u001b[0m \u001b[0mprofile\u001b[0m\u001b[0;34m\u001b[0m\u001b[0;34m\u001b[0m\u001b[0m\n\u001b[0m\u001b[1;32m      3\u001b[0m \u001b[0;34m\u001b[0m\u001b[0m\n\u001b[1;32m      4\u001b[0m \u001b[0;34m@\u001b[0m\u001b[0mprofile\u001b[0m\u001b[0;34m\u001b[0m\u001b[0;34m\u001b[0m\u001b[0m\n\u001b[1;32m      5\u001b[0m \u001b[0;32mdef\u001b[0m \u001b[0mtest\u001b[0m\u001b[0;34m(\u001b[0m\u001b[0;34m)\u001b[0m\u001b[0;34m:\u001b[0m\u001b[0;34m\u001b[0m\u001b[0;34m\u001b[0m\u001b[0m\n",
            "\u001b[0;31mModuleNotFoundError\u001b[0m: No module named 'memory_profiler'",
            "",
            "\u001b[0;31m---------------------------------------------------------------------------\u001b[0;32m\nNOTE: If your import is failing due to a missing package, you can\nmanually install dependencies using either !pip or !apt.\n\nTo view examples of installing some common dependencies, click the\n\"Open Examples\" button below.\n\u001b[0;31m---------------------------------------------------------------------------\u001b[0m\n"
          ],
          "errorDetails": {
            "actions": [
              {
                "action": "open_url",
                "actionText": "Open Examples",
                "url": "/notebooks/snippets/importing_libraries.ipynb"
              }
            ]
          }
        }
      ]
    },
    {
      "cell_type": "code",
      "source": [
        "#17. Write a Python program to create and write a list of numbers to a file, one number per line.\n",
        "numbers = [1, 2, 3, 4, 5]\n",
        "\n",
        "with open(\"numbers.txt\", \"w\") as f:\n",
        "    for num in numbers:\n",
        "        f.write(f\"{num}\\n\")\n"
      ],
      "metadata": {
        "id": "wgyCQCOMgwD5"
      },
      "execution_count": 46,
      "outputs": []
    },
    {
      "cell_type": "code",
      "source": [
        "#18. How would you implement a basic logging setup that logs to a file with rotation after 1MB?\n",
        "import logging\n",
        "from logging.handlers import RotatingFileHandler\n",
        "\n",
        "handler = RotatingFileHandler(\"app.log\", maxBytes=1048576, backupCount=5)\n",
        "logger = logging.getLogger(\"my_app\")\n",
        "logger.addHandler(handler)\n",
        "logger.setLevel(logging.INFO)"
      ],
      "metadata": {
        "id": "whw9Aw0SgwGz"
      },
      "execution_count": 15,
      "outputs": []
    },
    {
      "cell_type": "code",
      "source": [
        "#19. Write a program that handles both IndexError and KeyError using a try-except block.\n",
        "try:\n",
        "    lst = [1, 2, 3]\n",
        "    print(lst[5])\n",
        "    d = {\"a\": 1}\n",
        "    print(d[\"b\"])\n",
        "except IndexError:\n",
        "    print(\"List index error.\")\n",
        "except KeyError:\n",
        "    print(\"Dictionary key error.\")\n"
      ],
      "metadata": {
        "colab": {
          "base_uri": "https://localhost:8080/"
        },
        "id": "eEujWgAigwJK",
        "outputId": "98a62cc6-162a-470c-e922-49e0a9ec0acd"
      },
      "execution_count": 47,
      "outputs": [
        {
          "output_type": "stream",
          "name": "stdout",
          "text": [
            "List index error.\n"
          ]
        }
      ]
    },
    {
      "cell_type": "code",
      "source": [
        "#20. How would you open a file and read its contents using a context manager in Python?\n",
        "with open(\"file.txt\", \"r\") as file:\n",
        "    content = file.read()\n",
        "    print(content)"
      ],
      "metadata": {
        "colab": {
          "base_uri": "https://localhost:8080/"
        },
        "id": "8B9JLc3igwLf",
        "outputId": "0d8c7e9a-42c6-4023-901a-de1156035f20"
      },
      "execution_count": 13,
      "outputs": [
        {
          "output_type": "stream",
          "name": "stdout",
          "text": [
            "Hello, World!\n"
          ]
        }
      ]
    },
    {
      "cell_type": "code",
      "source": [
        "#21. Write a Python program that reads a file and prints the number of occurrences of a specific word.\n",
        "with open(\"output.txt\", \"r\") as f:\n",
        "    content = f.read()\n",
        "    print(content.count(\"test\"))\n"
      ],
      "metadata": {
        "colab": {
          "base_uri": "https://localhost:8080/"
        },
        "id": "LcZ-RUVwgwN3",
        "outputId": "b512762a-ed14-4f8f-efee-9acf37f86386"
      },
      "execution_count": 48,
      "outputs": [
        {
          "output_type": "stream",
          "name": "stdout",
          "text": [
            "1\n"
          ]
        }
      ]
    },
    {
      "cell_type": "code",
      "source": [
        "#22. How can you check if a file is empty before attempting to read its contents?\n",
        "import os\n",
        "\n",
        "if os.path.getsize(\"maybe_empty.txt\") == 0:\n",
        "    print(\"File is empty.\")\n",
        "else:\n",
        "    with open(\"maybe_empty.txt\", \"r\") as f:\n",
        "        print(f.read())\n"
      ],
      "metadata": {
        "id": "FwttNf4tgwQx"
      },
      "execution_count": 11,
      "outputs": []
    },
    {
      "cell_type": "code",
      "source": [
        "#23. Write a Python program that writes to a log file when an error occurs during file handling.\n",
        "import logging\n",
        "logging.basicConfig(filename=\"file_errors.log\", level=logging.ERROR)\n",
        "\n",
        "try:\n",
        "    with open(\"missing.txt\", \"r\") as file:\n",
        "        content = file.read()\n",
        "except FileNotFoundError:\n",
        "    logging.error(\"Attempted to open a non-existent file\")\n",
        ""
      ],
      "metadata": {
        "colab": {
          "base_uri": "https://localhost:8080/"
        },
        "id": "QEK8aolzgwTu",
        "outputId": "9c4ed451-b7fc-4bfd-9377-ea0b2e3f4e95"
      },
      "execution_count": 9,
      "outputs": [
        {
          "output_type": "stream",
          "name": "stderr",
          "text": [
            "ERROR:root:Attempted to open a non-existent file\n"
          ]
        }
      ]
    }
  ]
}